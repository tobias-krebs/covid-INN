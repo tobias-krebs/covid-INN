{
 "cells": [
  {
   "cell_type": "markdown",
   "id": "extreme-stranger",
   "metadata": {},
   "source": [
    "Notebook to replicate our results for data set 1 which does not use a RNN for condition procession"
   ]
  },
  {
   "cell_type": "code",
   "execution_count": 1,
   "id": "aVx1D4_OuZ8H",
   "metadata": {
    "executionInfo": {
     "elapsed": 4675,
     "status": "ok",
     "timestamp": 1632071731651,
     "user": {
      "displayName": "Tobi Krebs",
      "photoUrl": "https://lh3.googleusercontent.com/a/default-user=s64",
      "userId": "10647988187130389750"
     },
     "user_tz": -120
    },
    "id": "aVx1D4_OuZ8H"
   },
   "outputs": [],
   "source": [
    "import copy\n",
    "import torch.nn as nn\n",
    "import torch\n",
    "from FrEIA.framework import *\n",
    "from FrEIA.modules import *\n",
    "import matplotlib.pyplot as plt\n",
    "import numpy as np\n",
    "import pandas as pd\n",
    "device = torch.device(\"cuda:0\")"
   ]
  },
  {
   "cell_type": "code",
   "execution_count": 2,
   "id": "7yZD6tLtuZ8N",
   "metadata": {
    "colab": {
     "base_uri": "https://localhost:8080/"
    },
    "executionInfo": {
     "elapsed": 70253,
     "status": "ok",
     "timestamp": 1632071801903,
     "user": {
      "displayName": "Tobi Krebs",
      "photoUrl": "https://lh3.googleusercontent.com/a/default-user=s64",
      "userId": "10647988187130389750"
     },
     "user_tz": -120
    },
    "id": "7yZD6tLtuZ8N",
    "outputId": "e9921829-11ac-4767-aa74-a302bb78427f",
    "scrolled": true
   },
   "outputs": [
    {
     "data": {
      "text/plain": [
       "'\\ndata, params, length = load_data()\\ndata_dict = {\"data\": data,\\n            \"params\": params,\\n            \"length\": length}\\n\\ntorch.save(data_dict, \"data_first.save\")\\n'"
      ]
     },
     "execution_count": 2,
     "metadata": {},
     "output_type": "execute_result"
    }
   ],
   "source": [
    "def load_data():\n",
    "    \"\"\"\n",
    "    Helper function to read the data which is saved in multiple .csv files\n",
    "    converts data to pytorch tensors\n",
    "    \"\"\"\n",
    "    all_data = []\n",
    "    all_params = []\n",
    "    all_length = []\n",
    "    i = 0\n",
    "    j = 0\n",
    "    while(True):\n",
    "        name_dat = f\"./data_immune{j}/dat{i}.csv\"\n",
    "        name_param = f\"./params_immune{j}/params{i}.csv\"\n",
    "        try:\n",
    "            df_dat = pd.read_csv(name_dat)\n",
    "            df_param = pd.read_csv(name_param)\n",
    "            param = df_param.to_numpy()[0,[1]]\n",
    "            data = df_dat.iloc[:,2].to_numpy().reshape(-1,7)[:,1]\n",
    "            if len(data[np.isnan(data)]) == 0:\n",
    "                all_data.append(data)\n",
    "                all_params.append(param)\n",
    "                all_length.append(len(data))\n",
    "            else:\n",
    "                print(i)\n",
    "            i += 1\n",
    "        except Exception as e:\n",
    "            i = 0\n",
    "            j += 1\n",
    "        if j>8:\n",
    "            print(f\"loaded {len(all_data)} entries\")\n",
    "            break\n",
    "        if len(all_data)%1000 == 0:\n",
    "            print(\"Loaded\",len(all_data),\"Entries\")\n",
    "\n",
    "    all_params = torch.from_numpy(np.array(all_params)).to(torch.float32).to(device)\n",
    "    all_data = torch.from_numpy(np.array(all_data)).to(torch.float32).to(device)\n",
    "    return all_data, all_params, all_length\n",
    "\n",
    "\n",
    "data, params, length = load_data()\n",
    "data_dict = {\"data\": data,\n",
    "            \"params\": params,\n",
    "            \"length\": length}\n",
    "\n",
    "torch.save(data_dict, \"data_first.save\")"
   ]
  },
  {
   "cell_type": "code",
   "execution_count": 3,
   "id": "strong-spray",
   "metadata": {},
   "outputs": [],
   "source": [
    "#data_dict = torch.load(\"data_first.save\", map_location = device)"
   ]
  },
  {
   "cell_type": "code",
   "execution_count": 4,
   "id": "indian-national",
   "metadata": {},
   "outputs": [],
   "source": [
    "data = data_dict[\"data\"][:270000]\n",
    "params = data_dict[\"params\"][:270000]\n",
    "length = data_dict[\"length\"][:270000]\n",
    "test_dat = data_dict[\"data\"][270000:]\n",
    "test_params = data_dict[\"params\"][270000:]\n",
    "test_length = data_dict[\"length\"][270000:]"
   ]
  },
  {
   "cell_type": "code",
   "execution_count": 5,
   "id": "municipal-sphere",
   "metadata": {},
   "outputs": [],
   "source": [
    "class preprocessor():\n",
    "    \"\"\"\n",
    "    Used to save initial means and range of the parameters and\n",
    "    applies the preprocessing\n",
    "    \n",
    "    \"\"\"\n",
    "    def __init__(self, params):\n",
    "        self.means = params.mean(dim = 0)\n",
    "        self.max = torch.abs(params-self.means).max(dim = 0)[0]+1e-5\n",
    " \n",
    "    def __call__(self, params, fwd = True):\n",
    "        #return params\n",
    "        if fwd:\n",
    "            return torch.arctanh((params - self.means)/self.max)\n",
    "        else:\n",
    "            return torch.tanh(params) * self.max + self.means\n",
    "\n",
    "prepper = preprocessor(params)\n",
    "prepped = prepper(params, fwd = True)"
   ]
  },
  {
   "cell_type": "code",
   "execution_count": 6,
   "id": "t7RUBOXouZ8L",
   "metadata": {
    "executionInfo": {
     "elapsed": 469,
     "status": "ok",
     "timestamp": 1632071802957,
     "user": {
      "displayName": "Tobi Krebs",
      "photoUrl": "https://lh3.googleusercontent.com/a/default-user=s64",
      "userId": "10647988187130389750"
     },
     "user_tz": -120
    },
    "id": "t7RUBOXouZ8L"
   },
   "outputs": [],
   "source": [
    "def get_linear_subnet(N, inp_size, hidden_size, out_size):\n",
    "    \"\"\"\n",
    "    Helper function to get linear network with ReLU activation\n",
    "    N: amount of layers, not including the final linear output layer\n",
    "    inp_size: dimension of the input\n",
    "    hidden_size: width of the N-1 hidden layers\n",
    "    out_size: dimension of the output\n",
    "    \"\"\"\n",
    "    if N == 0:\n",
    "        return None\n",
    "    layer_list = []\n",
    "    layer_list.append(nn.Linear(inp_size, hidden_size))\n",
    "    layer_list.append(nn.ReLU())\n",
    "    for i in range(N-1):\n",
    "        layer_list.append(nn.Linear(hidden_size, hidden_size))\n",
    "        layer_list.append(nn.ReLU())\n",
    "    layer_list.append(nn.Linear(hidden_size, out_size))\n",
    "    return nn.Sequential(*layer_list).to(device)\n",
    "\n",
    "\n",
    "class cINN(nn.Module):\n",
    "    \"\"\"\n",
    "    cINN baseclass, using cubic spline blocks.\n",
    "    inp_size: dimension of the input\n",
    "    cond_size: dimension of the conditions\n",
    "    num_blocks: amount of coupling blocks used\n",
    "    sub_layers: amount of linear layers in the subnetworks\n",
    "    sub_width: width of the subnetworks\n",
    "    lr: learning rate, scheduler used is reduce_on_plateau\n",
    "    \"\"\"\n",
    "    def __init__(self, inp_size, cond_size, num_blocks = 5, sub_layers = 3, sub_width = 256, lr = 2e-4):\n",
    "        super(cINN, self).__init__()\n",
    "        constructor_fct = lambda x_in, x_out: get_linear_subnet(sub_layers, \n",
    "                                                                x_in,\n",
    "                                                                sub_width,\n",
    "                                                                x_out)\n",
    "\n",
    "        block_kwargs = {\n",
    "                        \"num_bins\": 60,\n",
    "                        \"subnet_constructor\": constructor_fct,\n",
    "                        \"bounds_init\": 5,\n",
    "                        \"permute_soft\": False\n",
    "                           }\n",
    "        inp_size = (inp_size,)        \n",
    "        nodes = [InputNode(*inp_size, name='inp')]\n",
    "        cond_node = ConditionNode(*(cond_size,))\n",
    "        for i in range(num_blocks):\n",
    "            nodes.append(Node(\n",
    "                    [nodes[-1].out0],\n",
    "                    CubicSplineBlock,\n",
    "                    block_kwargs,\n",
    "                    conditions = cond_node,\n",
    "                    name = f\"block_{i}\",\n",
    "                    \n",
    "                ))\n",
    "        nodes.append(OutputNode([nodes[-1].out0], name='out'))\n",
    "        nodes.append(cond_node)\n",
    "        self.model = GraphINN(nodes, verbose=False).to(device)\n",
    "        self.params_trainable = list(filter(\n",
    "                lambda p: p.requires_grad, self.model.parameters()))\n",
    "        n_trainable = sum(p.numel() for p in self.params_trainable)\n",
    "        print(f\"Number of cINN parameters: {n_trainable}\", flush=True)\n",
    "        \n",
    "        self.optimizer = torch.optim.AdamW(\n",
    "                self.params_trainable,\n",
    "                lr = lr,\n",
    "                betas =[0.9, 0.99],\n",
    "                eps = 1e-6,\n",
    "                weight_decay = 0\n",
    "            )\n",
    "        self.scheduler =  torch.optim.lr_scheduler.ReduceLROnPlateau(\n",
    "                self.optimizer,\n",
    "                verbose = True\n",
    "            )\n",
    "    def forward(self, x, cond = None, rev = False):\n",
    "        return self.model(x, c = cond, rev = rev)\n",
    "\n",
    "\n",
    "    \n",
    "class Estimator():\n",
    "    \"\"\"\n",
    "    Wrapper for training the cINN and inference\n",
    "    \"\"\"\n",
    "    def __init__(self, cinn):\n",
    "        self.cinn = cinn\n",
    "        \n",
    "    def metrik(self, true, data, gauss):\n",
    "        \"\"\"\n",
    "        Used to measure the distance between truth and generated parameters\n",
    "        Better interpretable than the Loss function\n",
    "        \"\"\"\n",
    "        with torch.no_grad():\n",
    "            output, _ = self.cinn(gauss, data, rev = True)\n",
    "            output = torch.abs(prepper(output, fwd = False) - prepper(true, fwd = False))\n",
    "            output = torch.mean(output, dim = 0).cpu().numpy()\n",
    "        print(\"Metric:\",output)\n",
    "        return output\n",
    "    \n",
    "    def train(self, epochs, xtrain, ytrain, batch_size):\n",
    "        \"\"\"\n",
    "        Trains the cINN and shows loss and metric plots\n",
    "        epochs: amount of epochs to train\n",
    "        xtrain: training parameters\n",
    "        ytrain: corresponding time series\n",
    "        batch_size: Batch size used for the training\n",
    "        \"\"\"\n",
    "        loss_curve = []\n",
    "        metrics_curve = []\n",
    "        zeros = torch.zeros(batch_size,1).to(device)\n",
    "        for epoch in range(epochs):\n",
    "            epoch_index = np.random.permutation(len(xtrain))\n",
    "            epoch_losses = 0\n",
    "            for i in range(len(xtrain)//batch_size):\n",
    "                cond = ytrain[epoch_index][i*batch_size:(i+1)*batch_size]\n",
    "                xsamps = xtrain[epoch_index][i*batch_size:(i+1)*batch_size]\n",
    "                self.cinn.optimizer.zero_grad()\n",
    "                \n",
    "                loss = 0\n",
    "\n",
    "                gauss, jac = self.cinn(xsamps, cond)\n",
    "                loss = torch.mean(gauss**2/2) - torch.mean(jac)/gauss.shape[1]\n",
    "                    \n",
    "                loss.backward()\n",
    "                self.cinn.optimizer.step()\n",
    "\n",
    "                epoch_losses += loss.item()/(len(xtrain)//batch_size)\n",
    "            loss_curve.append(epoch_losses)\n",
    "            \n",
    "            self.cinn.scheduler.step(epoch_losses)\n",
    "            print(\"Epoch:\", epoch + 1)\n",
    "            print(\"Loss:\", epoch_losses)\n",
    "            metrics_curve.append(self.metrik(xsamps,cond, zeros))\n",
    "        plt.plot(np.arange(len(loss_curve)),np.array(loss_curve), label = \"Loss\")\n",
    "        plt.ylabel(\"Loss\")\n",
    "        plt.xlabel(\"Epoch\")\n",
    "        plt.show()\n",
    "        metrics_curve = np.array(metrics_curve)\n",
    "        for i in range(metrics_curve.shape[1]):\n",
    "            plt.plot(np.arange(len(loss_curve)), metrics_curve[:,i], label = f\"Metric $x_{i}$\")\n",
    "        plt.xlabel(\"Epoch\")\n",
    "        plt.ylabel(\"Metric\")\n",
    "\n",
    "        \n",
    "    def inference(self, data_point, true_param = None):\n",
    "        \"\"\"\n",
    "        Predicts a parameter distribution for given time series\n",
    "        Overlays the true parameter to see how well the network performs\n",
    "        \"\"\"\n",
    "        outputs = []\n",
    "        with torch.no_grad():\n",
    "            for i in range(100):\n",
    "                gauss = torch.randn(1000,1).to(device)\n",
    "                cond = data_point.repeat(1000,1,1).to(device).view(-1,100)\n",
    "                output, _ = self.cinn(gauss, cond, rev = True)\n",
    "                outputs.append(output)\n",
    "        output = torch.cat(outputs, dim = 0)\n",
    "        output = prepper(output, fwd = False).detach().cpu()\n",
    "\n",
    "        plt.hist(output.numpy()[:,0], bins = 100, density = True, label = \"Generated\")\n",
    "        if true_param != None:\n",
    "            plt.axvline(true_param[0], color = \"r\", label = \"Truth\")\n",
    "        plt.xlabel(\"Initial Immune\", fontsize = 12)\n",
    "        plt.legend()\n",
    "        plt.ylabel(\"Normalized\", fontsize = 12)"
   ]
  },
  {
   "cell_type": "code",
   "execution_count": 7,
   "id": "powerful-stone",
   "metadata": {},
   "outputs": [
    {
     "name": "stdout",
     "output_type": "stream",
     "text": [
      "Number of cINN parameters: 943970\n",
      "Metrik: [0.03001976]\n",
      "Epoch: 1\n",
      "Loss: -0.5336053907188751\n",
      "Metrik: [0.03278863]\n",
      "Epoch: 2\n",
      "Loss: -0.8364717500810404\n",
      "Metrik: [0.03174226]\n",
      "Epoch: 3\n",
      "Loss: -0.850597468951276\n",
      "Metrik: [0.03155794]\n",
      "Epoch: 4\n",
      "Loss: -0.8555430419572435\n",
      "Metrik: [0.03066232]\n",
      "Epoch: 5\n",
      "Loss: -0.8590355570079715\n",
      "Metrik: [0.03161217]\n",
      "Epoch: 6\n",
      "Loss: -0.8572344306771081\n",
      "Metrik: [0.03282179]\n",
      "Epoch: 7\n",
      "Loss: -0.8620966768446765\n",
      "Metrik: [0.03203502]\n",
      "Epoch: 8\n",
      "Loss: -0.8626830295752025\n",
      "Metrik: [0.03004811]\n",
      "Epoch: 9\n",
      "Loss: -0.8638824661269444\n",
      "Metrik: [0.03251021]\n",
      "Epoch: 10\n",
      "Loss: -0.8626266927209518\n"
     ]
    },
    {
     "data": {
      "image/png": "[encoded data removed]",
      "text/plain": [
       "<Figure size 432x288 with 1 Axes>"
      ]
     },
     "metadata": {
      "needs_background": "light"
     },
     "output_type": "display_data"
    },
    {
     "data": {
      "image/png": "[encoded data removed]",
      "text/plain": [
       "<Figure size 432x288 with 1 Axes>"
      ]
     },
     "metadata": {
      "needs_background": "light"
     },
     "output_type": "display_data"
    }
   ],
   "source": [
    "cinn = cINN(1,100)\n",
    "net = Estimator(cinn)\n",
    "net.train(10, prepped, data, batch_size = 2048)"
   ]
  },
  {
   "cell_type": "code",
   "execution_count": 12,
   "id": "concrete-introduction",
   "metadata": {
    "scrolled": false
   },
   "outputs": [
    {
     "data": {
      "image/png": "[encoded data removed]",
      "text/plain": [
       "<Figure size 432x288 with 1 Axes>"
      ]
     },
     "metadata": {
      "needs_background": "light"
     },
     "output_type": "display_data"
    }
   ],
   "source": [
    "i = np.random.randint(len(test_dat))\n",
    "network = Estimator(cinn)\n",
    "network.inference(test_dat[i], test_params[i])"
   ]
  },
  {
   "cell_type": "code",
   "execution_count": 9,
   "id": "assisted-classics",
   "metadata": {},
   "outputs": [],
   "source": [
    "\"\"\"\n",
    "Importing the covid data from Germany to test the network on it\n",
    "\n",
    "\"\"\"\n",
    "\n",
    "cov_data = pd.read_csv(\"owid-covid-data.csv\")\n",
    "germany = cov_data[cov_data[\"location\"] == \"Germany\"]\n",
    "total_cases = germany[\"total_cases\"].to_numpy()[3:]/80000000\n",
    "active_cases = total_cases.copy()\n",
    "for i in range(len(total_cases)-20):\n",
    "    active_cases[i+20]-= total_cases[i]\n",
    "immune = germany[\"people_fully_vaccinated\"].to_numpy()[3:]/80000000\n",
    "immune[immune != immune] = 0\n",
    "active_cases = torch.from_numpy(active_cases).to(device).to(torch.float)"
   ]
  },
  {
   "cell_type": "code",
   "execution_count": 10,
   "id": "amazing-columbus",
   "metadata": {},
   "outputs": [
    {
     "data": {
      "image/png": "[encoded data removed]",
      "text/plain": [
       "<Figure size 432x288 with 1 Axes>"
      ]
     },
     "metadata": {
      "needs_background": "light"
     },
     "output_type": "display_data"
    }
   ],
   "source": [
    "network.inference(active_cases[500:600])"
   ]
  },
  {
   "cell_type": "code",
   "execution_count": 11,
   "id": "standard-delta",
   "metadata": {},
   "outputs": [],
   "source": [
    "def plotter(data):\n",
    "    \"\"\"\n",
    "    plot the timeseries\n",
    "    \"\"\"\n",
    "    try:\n",
    "        data = data.cpu().numpy()\n",
    "    except:\n",
    "        pass\n",
    "    susceptible = data[:,0]\n",
    "    infected = data[:,1]\n",
    "    immune = data[:,2]\n",
    "    time = np.arange(len(immune))\n",
    "    plt.plot(time,susceptible, label = \"Susceptible\")\n",
    "    plt.plot(time,infected, label = \"Infected\")\n",
    "    plt.plot(time,immune, label = \"Immune/Recovered\")\n",
    "    plt.legend()"
   ]
  }
 ],
 "metadata": {
  "accelerator": "GPU",
  "colab": {
   "name": "encoder.ipynb",
   "provenance": []
  },
  "kernelspec": {
   "display_name": "Python 3",
   "language": "python",
   "name": "python3"
  },
  "language_info": {
   "codemirror_mode": {
    "name": "ipython",
    "version": 3
   },
   "file_extension": ".py",
   "mimetype": "text/x-python",
   "name": "python",
   "nbconvert_exporter": "python",
   "pygments_lexer": "ipython3",
   "version": "3.8.5"
  }
 },
 "nbformat": 4,
 "nbformat_minor": 5
}
